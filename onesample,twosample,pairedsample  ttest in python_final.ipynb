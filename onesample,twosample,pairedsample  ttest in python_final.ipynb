{
 "cells": [
  {
   "cell_type": "markdown",
   "id": "6d79373e",
   "metadata": {},
   "source": [
    "# one sample ttest\n",
    "to test whether or not the mean/ average of population is equal to some value"
   ]
  },
  {
   "cell_type": "markdown",
   "id": "c9b58b6a",
   "metadata": {},
   "source": [
    "certain farm ma gayera herda kalij ko weight 1kg i.e. 1000 gram cha ki nai vanne check\n",
    "we collect the random weights of those kalij's"
   ]
  },
  {
   "cell_type": "code",
   "execution_count": 33,
   "id": "11ced619",
   "metadata": {},
   "outputs": [],
   "source": [
    "import pandas as pd\n",
    "import numpy as np\n",
    "import scipy \n",
    "import statsmodels.stats as stats\n",
    "from scipy.stats import ttest_1samp\n",
    "import scipy.stats as stats"
   ]
  },
  {
   "cell_type": "code",
   "execution_count": 41,
   "id": "c08cc22c",
   "metadata": {},
   "outputs": [
    {
     "name": "stdout",
     "output_type": "stream",
     "text": [
      "2.192565131239021e-06\n"
     ]
    }
   ],
   "source": [
    "# weight = 990,900,760,1200,1300,900,550,400,900,1400,1600,1500\n",
    "# array\n",
    "weight = [990,900,760,1200,1300,900,550,400,900,1400,1600,1500]\n",
    "# perform one sample test now\n",
    "s,p_value = stats.ttest_1samp(a=weight,popmean=2000)\n",
    "# print(stats.ttest_1samp(a=weight,popmean=2000))\n",
    "print(p_value)\n",
    "# print(f\"Mean is {np.mean(weight)}\")"
   ]
  },
  {
   "cell_type": "code",
   "execution_count": 42,
   "id": "af71a1d9",
   "metadata": {},
   "outputs": [
    {
     "name": "stdout",
     "output_type": "stream",
     "text": [
      "Reject HO\n"
     ]
    }
   ],
   "source": [
    "alpha = 0.05\n",
    "if p_value <= 0.05:\n",
    "    print(\"Reject HO\")\n",
    "else:\n",
    "    print(\"Accept HO\")\n",
    "    "
   ]
  },
  {
   "cell_type": "markdown",
   "id": "5d51507f",
   "metadata": {},
   "source": [
    "# Two sample ttest python\n",
    "is used to test whether or not the means of two population are equal\n"
   ]
  },
  {
   "cell_type": "code",
   "execution_count": 51,
   "id": "0f183622",
   "metadata": {},
   "outputs": [
    {
     "name": "stdout",
     "output_type": "stream",
     "text": [
      "Ttest_indResult(statistic=0.8432743301255019, pvalue=0.4101416483723136)\n",
      "Mean prajati1 974.8, Mean prajati2 888.0 \n"
     ]
    }
   ],
   "source": [
    "# sample1 vaneko kalij ko euta prajati ko weight ho \n",
    "# sample2 vaneko kalij ko arko prajati ko weight ho \n",
    "# NULL Hypothesis: HO\n",
    "#     prajati1 ra prajati2 ko average weight same cha\n",
    "# Alternate Hypothesis: HA\n",
    "#     prajati1 ra prajati2 ko average weight same chaina\n",
    "# sample1=1000,1200,1100,990,690,889,1300,1200,590,789\n",
    "# sample2=1100,1200,800,900,790,800,900,1200,490,700\n",
    "# array\n",
    "sample1 = [1000,1200,1100,990,690,889,1300,1200,590,789]\n",
    "sample2 = [1100,1200,800,900,790,800,900,1200,490,700]\n",
    "#perform two sample ttest\n",
    "print(stats.ttest_ind(a=sample1,b=sample2))\n",
    "stat,p_value = stats.ttest_ind(a=sample1,b=sample2)\n",
    "p_value\n",
    "print(f\"Mean prajati1 {np.mean(sample1)}, Mean prajati2 {np.mean(sample2)} \")"
   ]
  },
  {
   "cell_type": "code",
   "execution_count": 48,
   "id": "c3ee1207",
   "metadata": {},
   "outputs": [
    {
     "name": "stdout",
     "output_type": "stream",
     "text": [
      "Accept HO\n"
     ]
    }
   ],
   "source": [
    "if p_value <= 0.05:\n",
    "    print(\"Reject HO\")\n",
    "else:\n",
    "    print(\"Accept HO\")"
   ]
  },
  {
   "cell_type": "code",
   "execution_count": 56,
   "id": "019029c9",
   "metadata": {},
   "outputs": [
    {
     "name": "stdout",
     "output_type": "stream",
     "text": [
      "Ttest_indResult(statistic=-2.626911356998302, pvalue=0.01710240758838491)\n",
      "Mean prajati1 974.8, Mean prajati2 2338.0 \n",
      "Reject HO\n"
     ]
    }
   ],
   "source": [
    "sample1 = [1000,1200,1100,990,690,889,1300,1200,590,789]\n",
    "sample2 = [3100,3200,3800,3900,790,800,900,1200,4990,700]\n",
    "#perform two sample ttest\n",
    "print(stats.ttest_ind(a=sample1,b=sample2))\n",
    "stat,p_value = stats.ttest_ind(a=sample1,b=sample2)\n",
    "p_value\n",
    "print(f\"Mean prajati1 {np.mean(sample1)}, Mean prajati2 {np.mean(sample2)} \")\n",
    "if p_value <= 0.05:\n",
    "    print(\"Reject HO\")\n",
    "else:\n",
    "    print(\"Accept HO\")"
   ]
  },
  {
   "cell_type": "markdown",
   "id": "d350be28",
   "metadata": {},
   "source": [
    "# Paired sample ttest in python"
   ]
  },
  {
   "cell_type": "markdown",
   "id": "4424d777",
   "metadata": {},
   "source": [
    "to compare the the means of two samples when each observation in one sample\n",
    "can be paired with an observation in the other sample"
   ]
  },
  {
   "cell_type": "code",
   "execution_count": 60,
   "id": "49212b3c",
   "metadata": {},
   "outputs": [
    {
     "name": "stdout",
     "output_type": "stream",
     "text": [
      "TtestResult(statistic=-1.8773044091622952, pvalue=0.08499172442911988, df=12)\n",
      "0.08499172442911988\n"
     ]
    }
   ],
   "source": [
    "# kalij lai certain khane kura chai certain brand ko charo dida aaune change\n",
    "# suru ma tyo charo use garnu vanda pahile:\n",
    "before = [880,900,1000,650,850,1200,1300,1400,400,300,600,350,990]\n",
    "after = [980,950,1200,850,950,1000,1000,1200,800,700,1000,750,1090]\n",
    "# perform paired sample ttest\n",
    "print(stats.ttest_rel(a=before,b=after))\n",
    "stat,p_value = stats.ttest_rel(a=before,b=after)\n",
    "print(p_value)"
   ]
  },
  {
   "cell_type": "code",
   "execution_count": null,
   "id": "97e9866b",
   "metadata": {},
   "outputs": [],
   "source": []
  }
 ],
 "metadata": {
  "kernelspec": {
   "display_name": "Python 3 (ipykernel)",
   "language": "python",
   "name": "python3"
  },
  "language_info": {
   "codemirror_mode": {
    "name": "ipython",
    "version": 3
   },
   "file_extension": ".py",
   "mimetype": "text/x-python",
   "name": "python",
   "nbconvert_exporter": "python",
   "pygments_lexer": "ipython3",
   "version": "3.11.4"
  }
 },
 "nbformat": 4,
 "nbformat_minor": 5
}
