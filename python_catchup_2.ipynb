{
 "cells": [
  {
   "cell_type": "code",
   "execution_count": 8,
   "id": "04a6a60b",
   "metadata": {},
   "outputs": [
    {
     "name": "stdout",
     "output_type": "stream",
     "text": [
      "Enter your name test\n",
      "Enter your age22\n",
      "test\n",
      "22\n",
      "Valid age\n"
     ]
    }
   ],
   "source": [
    "name = input(\"Enter your country \")\n",
    "age = int(input(\"Enter your age\"))\n",
    "print(name)\n",
    "print(age)\n",
    "if age >= 18:\n",
    "    print(\"Valid age\")\n",
    "else:\n",
    "    print(\"Invalid age\")"
   ]
  },
  {
   "cell_type": "code",
   "execution_count": 17,
   "id": "cacde4ba",
   "metadata": {},
   "outputs": [
    {
     "name": "stdout",
     "output_type": "stream",
     "text": [
      "Enter your country NepAL\n",
      "Enter your age22\n",
      "NepAL\n",
      "22\n",
      "Valid\n"
     ]
    }
   ],
   "source": [
    "name = input(\"Enter your country \")\n",
    "age = int(input(\"Enter your age\"))\n",
    "print(name)\n",
    "print(age)\n",
    "if age >= 18 and name.lower() == 'nepal':\n",
    "    print(\"Valid\")\n",
    "else:\n",
    "    print(\"Invalid\")"
   ]
  },
  {
   "cell_type": "code",
   "execution_count": 18,
   "id": "8e714ee8",
   "metadata": {},
   "outputs": [
    {
     "name": "stdout",
     "output_type": "stream",
     "text": [
      "range(0, 5)\n"
     ]
    }
   ],
   "source": [
    "print(range(5))"
   ]
  },
  {
   "cell_type": "code",
   "execution_count": 20,
   "id": "84f30450",
   "metadata": {},
   "outputs": [
    {
     "name": "stdout",
     "output_type": "stream",
     "text": [
      "0 1 2 3 4 "
     ]
    }
   ],
   "source": [
    "for i in range(5):\n",
    "    print(i, end=' ')"
   ]
  },
  {
   "cell_type": "code",
   "execution_count": 21,
   "id": "30378794",
   "metadata": {},
   "outputs": [
    {
     "name": "stdout",
     "output_type": "stream",
     "text": [
      "Enter your country nepal\n",
      "Enter your age22\n",
      "nepal\n",
      "22\n",
      "Valid\n",
      "Enter your country nepal\n",
      "Enter your age11\n",
      "nepal\n",
      "11\n",
      "Invalid\n",
      "Enter your country USA\n",
      "Enter your age22\n",
      "USA\n",
      "22\n",
      "Invalid\n"
     ]
    }
   ],
   "source": [
    "for i in range(3):\n",
    "    name = input(\"Enter your country \")\n",
    "    age = int(input(\"Enter your age\"))\n",
    "    print(name)\n",
    "    print(age)\n",
    "    if age >= 18 and name.lower() == 'nepal':\n",
    "        print(\"Valid\")\n",
    "    else:\n",
    "        print(\"Invalid\")"
   ]
  },
  {
   "cell_type": "code",
   "execution_count": 22,
   "id": "3fc701f9",
   "metadata": {},
   "outputs": [
    {
     "name": "stdout",
     "output_type": "stream",
     "text": [
      "Enter any number 220\n",
      "Greater than 100\n"
     ]
    }
   ],
   "source": [
    "num = int(input(\"Enter any number \"))\n",
    "if num > 100:\n",
    "    print(\"Greater than 100\")\n",
    "elif num > 50:\n",
    "    print(\"Greater than 50\")\n",
    "elif num > 20:\n",
    "    print(\"Greater than 20\")\n",
    "else:\n",
    "    print(\"Less than 20\")"
   ]
  },
  {
   "cell_type": "code",
   "execution_count": 24,
   "id": "62eb9c7c",
   "metadata": {},
   "outputs": [
    {
     "name": "stdout",
     "output_type": "stream",
     "text": [
      "Enter any number 222\n",
      "Greater than 100\n"
     ]
    }
   ],
   "source": [
    "num = int(input(\"Enter any number \"))\n",
    "if num > 0:\n",
    "    if num > 100:\n",
    "        print(\"Greater than 100\")\n",
    "    elif num > 50:\n",
    "        print(\"Greater than 50\")\n",
    "    elif num > 20:\n",
    "        print(\"Greater than 20\")\n",
    "    else:\n",
    "        print(\"Less than 20\")\n",
    "else:\n",
    "    print(\"negative number\")"
   ]
  },
  {
   "cell_type": "code",
   "execution_count": 27,
   "id": "38f38465",
   "metadata": {},
   "outputs": [
    {
     "name": "stdout",
     "output_type": "stream",
     "text": [
      "Enter the capital of Nepal kathmandu\n",
      "Bravo!\n",
      "Enter the capital of china beijing\n",
      "Cool\n"
     ]
    }
   ],
   "source": [
    "c1 = 'Nepal'\n",
    "c2 = 'China'\n",
    "cap1 = 'kathmandu'\n",
    "cap2 = 'beijing'\n",
    "u_cap1 = input(\"Enter the capital of Nepal \")\n",
    "if u_cap1.lower() == cap1:\n",
    "    print(\"Bravo!\")\n",
    "else:\n",
    "    print(\"Hard luck!\")\n",
    "u_cap2 = input(\"Enter the capital of china \")\n",
    "if u_cap2.lower() == cap2:\n",
    "    print(\"Cool\")\n",
    "else:\n",
    "    print(\"Hard luck\")"
   ]
  },
  {
   "cell_type": "code",
   "execution_count": 40,
   "id": "1a4f7d59",
   "metadata": {},
   "outputs": [
    {
     "name": "stdout",
     "output_type": "stream",
     "text": [
      "1\n"
     ]
    }
   ],
   "source": [
    "import random\n",
    "print(random.randint(1,2))"
   ]
  },
  {
   "cell_type": "code",
   "execution_count": 43,
   "id": "ed55a1c4",
   "metadata": {},
   "outputs": [
    {
     "name": "stdout",
     "output_type": "stream",
     "text": [
      "0.10363967208729397\n"
     ]
    }
   ],
   "source": [
    "print(random.random())"
   ]
  },
  {
   "cell_type": "code",
   "execution_count": 45,
   "id": "ed984465",
   "metadata": {},
   "outputs": [
    {
     "name": "stdout",
     "output_type": "stream",
     "text": [
      "4.575795139483686\n"
     ]
    }
   ],
   "source": [
    "print(random.uniform(1,5))"
   ]
  },
  {
   "cell_type": "code",
   "execution_count": 54,
   "id": "5c5608f5",
   "metadata": {},
   "outputs": [
    {
     "name": "stdout",
     "output_type": "stream",
     "text": [
      "Enter the capital of china test\n",
      "Hard luck\n"
     ]
    }
   ],
   "source": [
    "c1 = 'Nepal'\n",
    "c2 = 'China'\n",
    "cap1 = 'kathmandu'\n",
    "cap2 = 'beijing'\n",
    "control_number = random.randint(1,2)  # 1 or 2\n",
    "if control_number == 1:\n",
    "    u_cap1 = input(\"Enter the capital of Nepal \")\n",
    "    if u_cap1.lower() == cap1:\n",
    "        print(\"Bravo!\")\n",
    "    else:\n",
    "        print(\"Hard luck!\")\n",
    "elif control_number == 2:\n",
    "    u_cap2 = input(\"Enter the capital of china \")\n",
    "    if u_cap2.lower() == cap2:\n",
    "        print(\"Cool\")\n",
    "    else:\n",
    "        print(\"Hard luck\")"
   ]
  },
  {
   "cell_type": "code",
   "execution_count": 58,
   "id": "04dffc33",
   "metadata": {},
   "outputs": [
    {
     "name": "stdout",
     "output_type": "stream",
     "text": [
      "Enter the capital of Nepal ktm\n",
      "Hard luck!\n",
      "Enter the capital of china beijing\n",
      "Cool\n"
     ]
    }
   ],
   "source": [
    "c1 = 'Nepal'\n",
    "c2 = 'China'\n",
    "cap1 = 'kathmandu'\n",
    "cap2 = 'beijing'\n",
    "s1 = 0\n",
    "s2 = 0\n",
    "control_number = random.randint(1,2)  # 1 or 2\n",
    "while True:\n",
    "    control_number = random.randint(1,2)  # 1 or 2\n",
    "    if control_number == 1 and s1 == 0:\n",
    "        u_cap1 = input(\"Enter the capital of Nepal \")\n",
    "        if u_cap1.lower() == cap1:\n",
    "            print(\"Bravo!\")\n",
    "        else:\n",
    "            print(\"Hard luck!\")\n",
    "        s1 = 1\n",
    "        \n",
    "    if control_number == 2 and s2 == 0:\n",
    "        u_cap2 = input(\"Enter the capital of china \")\n",
    "        if u_cap2.lower() == cap2:\n",
    "            print(\"Cool\")\n",
    "        else:\n",
    "            print(\"Hard luck\")\n",
    "        s2 = 1\n",
    "        \n",
    "    if s1 == 1 and s2 == 1:\n",
    "        break"
   ]
  },
  {
   "cell_type": "code",
   "execution_count": 59,
   "id": "ce84a65f",
   "metadata": {},
   "outputs": [
    {
     "data": {
      "text/plain": [
       "'C:\\\\Users\\\\Admin\\\\Data Science 1PM'"
      ]
     },
     "execution_count": 59,
     "metadata": {},
     "output_type": "execute_result"
    }
   ],
   "source": [
    "pwd"
   ]
  },
  {
   "cell_type": "code",
   "execution_count": null,
   "id": "9aa770a4",
   "metadata": {},
   "outputs": [],
   "source": []
  }
 ],
 "metadata": {
  "kernelspec": {
   "display_name": "Python 3 (ipykernel)",
   "language": "python",
   "name": "python3"
  },
  "language_info": {
   "codemirror_mode": {
    "name": "ipython",
    "version": 3
   },
   "file_extension": ".py",
   "mimetype": "text/x-python",
   "name": "python",
   "nbconvert_exporter": "python",
   "pygments_lexer": "ipython3",
   "version": "3.9.12"
  }
 },
 "nbformat": 4,
 "nbformat_minor": 5
}
