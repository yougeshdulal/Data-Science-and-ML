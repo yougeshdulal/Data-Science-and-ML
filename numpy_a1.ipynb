{
 "cells": [
  {
   "cell_type": "code",
   "execution_count": 1,
   "id": "26f2ccf4",
   "metadata": {},
   "outputs": [],
   "source": [
    "import numpy as np"
   ]
  },
  {
   "cell_type": "code",
   "execution_count": 2,
   "id": "5330b6e4",
   "metadata": {},
   "outputs": [
    {
     "name": "stdout",
     "output_type": "stream",
     "text": [
      "[1 2 3]\n",
      "[4 5 6]\n"
     ]
    }
   ],
   "source": [
    "a1 = np.array([1,2,3])\n",
    "a2 = np.array([4,5,6])\n",
    "print(a1)\n",
    "print(a2)"
   ]
  },
  {
   "cell_type": "code",
   "execution_count": 5,
   "id": "a4c01f5b",
   "metadata": {},
   "outputs": [
    {
     "data": {
      "text/plain": [
       "array([1, 2, 3, 4, 5])"
      ]
     },
     "execution_count": 5,
     "metadata": {},
     "output_type": "execute_result"
    }
   ],
   "source": [
    "a1 = np.array([1,2,3,4,5])\n",
    "a1"
   ]
  },
  {
   "cell_type": "code",
   "execution_count": 6,
   "id": "9d9223a9",
   "metadata": {},
   "outputs": [
    {
     "name": "stdout",
     "output_type": "stream",
     "text": [
      "3.0\n"
     ]
    }
   ],
   "source": [
    "print(np.mean(a1))   # averagethe average of a data set, found by adding all numbers together and \n",
    "# then dividing the sum of the numbers by the number of numbers"
   ]
  },
  {
   "cell_type": "code",
   "execution_count": 7,
   "id": "c4435493",
   "metadata": {},
   "outputs": [
    {
     "data": {
      "text/plain": [
       "61.25"
      ]
     },
     "execution_count": 7,
     "metadata": {},
     "output_type": "execute_result"
    }
   ],
   "source": [
    "a1 = np.array([1,2,5,7,9,111,22,333])\n",
    "np.mean(a1)"
   ]
  },
  {
   "cell_type": "code",
   "execution_count": 13,
   "id": "5228e7a0",
   "metadata": {},
   "outputs": [
    {
     "data": {
      "text/plain": [
       "array([  1,   2,   5,   7,   9,  12,  22, 111])"
      ]
     },
     "execution_count": 13,
     "metadata": {},
     "output_type": "execute_result"
    }
   ],
   "source": [
    "n1 = sorted([1,2,5,7,9,111,22,12])\n",
    "a1 = np.array(n1)\n",
    "a1"
   ]
  },
  {
   "cell_type": "code",
   "execution_count": 14,
   "id": "c8c0523a",
   "metadata": {},
   "outputs": [
    {
     "name": "stdout",
     "output_type": "stream",
     "text": [
      "8.0\n"
     ]
    }
   ],
   "source": [
    "print(np.median(a1))  #  the middle number in a sorted ascending or descending list of numbers "
   ]
  },
  {
   "cell_type": "code",
   "execution_count": 16,
   "id": "df90d828",
   "metadata": {},
   "outputs": [
    {
     "data": {
      "text/plain": [
       "array([  1,   2,   5,   7,   9,  11,  12,  22,  99, 101, 111])"
      ]
     },
     "execution_count": 16,
     "metadata": {},
     "output_type": "execute_result"
    }
   ],
   "source": [
    "n1 = sorted([1,2,5,7,9,99,101,111,22,12,11])\n",
    "a1 = np.array(n1)\n",
    "a1"
   ]
  },
  {
   "cell_type": "code",
   "execution_count": 17,
   "id": "27749506",
   "metadata": {},
   "outputs": [
    {
     "name": "stdout",
     "output_type": "stream",
     "text": [
      "11.0\n"
     ]
    }
   ],
   "source": [
    "print(np.median(a1))"
   ]
  },
  {
   "cell_type": "code",
   "execution_count": 18,
   "id": "b4cb1e7c",
   "metadata": {},
   "outputs": [
    {
     "data": {
      "text/plain": [
       "array([  1,   2,   5,   7,   9,  99, 101, 111,  22,  12,  11])"
      ]
     },
     "execution_count": 18,
     "metadata": {},
     "output_type": "execute_result"
    }
   ],
   "source": [
    "n1 = [1,2,5,7,9,99,101,111,22,12,11]\n",
    "a1 = np.array(n1)\n",
    "a1"
   ]
  },
  {
   "cell_type": "code",
   "execution_count": 19,
   "id": "88248d93",
   "metadata": {},
   "outputs": [
    {
     "name": "stdout",
     "output_type": "stream",
     "text": [
      "11.0\n"
     ]
    }
   ],
   "source": [
    "print(np.median(a1))"
   ]
  },
  {
   "cell_type": "code",
   "execution_count": 20,
   "id": "d264d2ff",
   "metadata": {},
   "outputs": [
    {
     "name": "stdout",
     "output_type": "stream",
     "text": [
      "42.751637153901406\n"
     ]
    }
   ],
   "source": [
    "print(np.std(a1))"
   ]
  },
  {
   "cell_type": "code",
   "execution_count": 22,
   "id": "d270f87f",
   "metadata": {},
   "outputs": [
    {
     "name": "stdout",
     "output_type": "stream",
     "text": [
      "71.91666666666667\n",
      "15.305000998221317\n"
     ]
    }
   ],
   "source": [
    "n1 = [991,900,51,52,55,77,90,99,66,67,91,62,72,81]\n",
    "a1 = np.array(n1)\n",
    "print(np.mean(a1))\n",
    "print(np.std(a1))"
   ]
  },
  {
   "cell_type": "code",
   "execution_count": 23,
   "id": "a11ebcf1",
   "metadata": {},
   "outputs": [
    {
     "name": "stdout",
     "output_type": "stream",
     "text": [
      "53.166666666666664\n",
      "3.3124344857252983\n"
     ]
    }
   ],
   "source": [
    "n1 = [51,51,51,52,51,53,56,57,51,52,62,51]\n",
    "a1 = np.array(n1)\n",
    "print(np.mean(a1))\n",
    "print(np.std(a1))"
   ]
  },
  {
   "cell_type": "code",
   "execution_count": 24,
   "id": "b4a05a73",
   "metadata": {},
   "outputs": [
    {
     "name": "stdout",
     "output_type": "stream",
     "text": [
      "196.71428571428572\n"
     ]
    }
   ],
   "source": [
    "n1 = [991,900,51,52,55,77,90,99,66,67,91,62,72,81]\n",
    "a1 = np.array(n1)\n",
    "print(np.mean(a1))"
   ]
  },
  {
   "cell_type": "code",
   "execution_count": 25,
   "id": "356e3914",
   "metadata": {},
   "outputs": [
    {
     "name": "stdout",
     "output_type": "stream",
     "text": [
      "306.5015564098046\n"
     ]
    }
   ],
   "source": [
    "# standard deviation\n",
    "print(np.std(a1))"
   ]
  },
  {
   "cell_type": "code",
   "execution_count": 27,
   "id": "326deaf7",
   "metadata": {},
   "outputs": [
    {
     "name": "stdout",
     "output_type": "stream",
     "text": [
      "74.57142857142857\n",
      "15.591729885305432\n"
     ]
    }
   ],
   "source": [
    "n1 = [91,90,51,52,55,77,90,99,66,67,91,62,72,81]\n",
    "a1 = np.array(n1)\n",
    "print(np.mean(a1))\n",
    "print(np.std(a1))"
   ]
  },
  {
   "cell_type": "code",
   "execution_count": 28,
   "id": "b752962e",
   "metadata": {},
   "outputs": [
    {
     "name": "stdout",
     "output_type": "stream",
     "text": [
      "93.21428571428571\n",
      "2.832933145007421\n"
     ]
    }
   ],
   "source": [
    "n1 = [91,91,91,92,95,97,90,99,96,97,91,92,92,91]\n",
    "a1 = np.array(n1)\n",
    "print(np.mean(a1))\n",
    "print(np.std(a1))"
   ]
  },
  {
   "cell_type": "code",
   "execution_count": null,
   "id": "0aefdd33",
   "metadata": {},
   "outputs": [],
   "source": []
  }
 ],
 "metadata": {
  "kernelspec": {
   "display_name": "Python 3 (ipykernel)",
   "language": "python",
   "name": "python3"
  },
  "language_info": {
   "codemirror_mode": {
    "name": "ipython",
    "version": 3
   },
   "file_extension": ".py",
   "mimetype": "text/x-python",
   "name": "python",
   "nbconvert_exporter": "python",
   "pygments_lexer": "ipython3",
   "version": "3.11.4"
  }
 },
 "nbformat": 4,
 "nbformat_minor": 5
}
