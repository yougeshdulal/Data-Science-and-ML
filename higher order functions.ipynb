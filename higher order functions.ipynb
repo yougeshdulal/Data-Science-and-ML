{
 "cells": [
  {
   "cell_type": "code",
   "execution_count": 3,
   "id": "4ef4274d",
   "metadata": {},
   "outputs": [
    {
     "name": "stdout",
     "output_type": "stream",
     "text": [
      "3.11.4\n"
     ]
    }
   ],
   "source": [
    "import csv\n",
    "#name, age , address, duration, medication\n",
    "from platform import python_version\n",
    "print(python_version())"
   ]
  },
  {
   "cell_type": "code",
   "execution_count": 4,
   "id": "bc60ce5b",
   "metadata": {},
   "outputs": [
    {
     "name": "stdout",
     "output_type": "stream",
     "text": [
      "Enter\n",
      "add---add new detail\n",
      "view---view new detailadd\n",
      "Enter the name test\n",
      "Enter the age 22\n",
      "Enter the address ktm\n",
      "Enter the duration 2\n",
      "Enter yes or no on medication no\n"
     ]
    }
   ],
   "source": [
    "user_option = input(\"Enter\\nadd---add new detail\\nview---view new detail\")\n",
    "match user_option:\n",
    "    case 'add':\n",
    "        name = input(\"Enter the name \")\n",
    "        age = input(\"Enter the age \")\n",
    "        address = input(\"Enter the address \")\n",
    "        duration = input(\"Enter the duration \")\n",
    "        medication = input(\"Enter yes or no on medication \")\n",
    "        with open(\"patient.csv\",'a',newline='\\n') as f:\n",
    "            data_write = csv.writer(f)\n",
    "            data_write.writerow([name,age,address,duration,medication])\n",
    "            \n",
    "    case 'view':\n",
    "        print(\"View data\")\n",
    "    case 'invalid':\n",
    "        print(\"Invalid\")"
   ]
  },
  {
   "cell_type": "markdown",
   "id": "efad1478",
   "metadata": {},
   "source": [
    "# decorators\n",
    "# higher order functions\n",
    "# first class object"
   ]
  },
  {
   "cell_type": "code",
   "execution_count": 8,
   "id": "e4aac0b7",
   "metadata": {},
   "outputs": [
    {
     "name": "stdout",
     "output_type": "stream",
     "text": [
      "THIS IS TEST\n",
      "THIS IS TEST\n"
     ]
    }
   ],
   "source": [
    "# assigning function to a variable\n",
    "def function1(some_text):\n",
    "    return some_text.upper()\n",
    "\n",
    "data1 = function1(\"This is Test\")\n",
    "\n",
    "some_var = function1\n",
    "data2 = some_var(\"This is Test\")\n",
    "print(data1)\n",
    "print(data2)\n"
   ]
  },
  {
   "cell_type": "code",
   "execution_count": 9,
   "id": "57013716",
   "metadata": {},
   "outputs": [
    {
     "name": "stdout",
     "output_type": "stream",
     "text": [
      "THIS IS TEST\n",
      "this is test\n"
     ]
    }
   ],
   "source": [
    "def function1(some_text):\n",
    "    return some_text.upper()\n",
    "def function2(some_text):\n",
    "    return some_text.lower()\n",
    "some_var1 = function1\n",
    "some_var2 = function2\n",
    "data1 = some_var1(\"this is Test\")\n",
    "data2 = some_var2(\"this is Test\")\n",
    "print(data1)\n",
    "print(data2)"
   ]
  },
  {
   "cell_type": "code",
   "execution_count": 10,
   "id": "831d4a45",
   "metadata": {},
   "outputs": [
    {
     "name": "stdout",
     "output_type": "stream",
     "text": [
      "THIS IS TEST\n",
      "this is test\n"
     ]
    }
   ],
   "source": [
    "# passing function as an argument\n",
    "def function1(some_text):\n",
    "    return some_text.upper()\n",
    "\n",
    "def function2(some_text):\n",
    "    return some_text.lower()\n",
    "\n",
    "def function3(function):\n",
    "    print(function(\"This is tesT\"))\n",
    "    \n",
    "function3(function1)\n",
    "function3(function2)\n"
   ]
  },
  {
   "cell_type": "code",
   "execution_count": 11,
   "id": "58e58392",
   "metadata": {},
   "outputs": [
    {
     "name": "stdout",
     "output_type": "stream",
     "text": [
      "This is inside function1\n",
      "This is inside function3\n",
      "This is inside function2\n"
     ]
    }
   ],
   "source": [
    "# function inside function, nested function\n",
    "def function1():\n",
    "    print(\"This is inside function1\")\n",
    "    \n",
    "    def function2():\n",
    "        print(\"This is inside function2\")\n",
    "        \n",
    "    def function3():\n",
    "        print(\"This is inside function3\")\n",
    "        \n",
    "    function3()\n",
    "    function2()\n",
    "\n",
    "function1()"
   ]
  },
  {
   "cell_type": "code",
   "execution_count": 14,
   "id": "ddf87944",
   "metadata": {},
   "outputs": [
    {
     "name": "stdout",
     "output_type": "stream",
     "text": [
      "Inside function3\n",
      "Inside function2\n"
     ]
    }
   ],
   "source": [
    "# returning a function from function\n",
    "def function1(number):\n",
    "    \n",
    "    def function2():\n",
    "        print(\"Inside function2\")\n",
    "        \n",
    "    def function3():\n",
    "        print(\"Inside function3\")\n",
    "        \n",
    "    if number == 1:\n",
    "        return function2\n",
    "    else:\n",
    "        return function3\n",
    "\n",
    "data1 = function1(2)\n",
    "data1()\n",
    "data2 = function1(1)\n",
    "data2()"
   ]
  },
  {
   "cell_type": "code",
   "execution_count": 33,
   "id": "e1d38bf0",
   "metadata": {},
   "outputs": [
    {
     "name": "stdout",
     "output_type": "stream",
     "text": [
      "Inside function1\n",
      "Hello\n",
      "Test contents\n"
     ]
    }
   ],
   "source": [
    "def function1(function):\n",
    "    print(\"Inside function1\")\n",
    "\n",
    "    def wrapper():\n",
    "        print(\"Hello\")\n",
    "#         function()\n",
    "        print(\"Test contents\")\n",
    "    return wrapper\n",
    "    print(\"This is at bottom\")\n",
    "    \n",
    "def function2():\n",
    "    print(\"This is inside function2\")\n",
    "functionn = function1(function2)\n",
    "functionn()"
   ]
  },
  {
   "cell_type": "code",
   "execution_count": 44,
   "id": "3fb06989",
   "metadata": {},
   "outputs": [
    {
     "name": "stdout",
     "output_type": "stream",
     "text": [
      "Inside function1\n",
      "Hello\n",
      "Test contents\n"
     ]
    }
   ],
   "source": [
    "def function1(function):\n",
    "    print(\"Inside function1\")\n",
    "\n",
    "    def wrapper():\n",
    "        print(\"Hello\")\n",
    "#         function()\n",
    "        print(\"Test contents\")\n",
    "    return wrapper\n",
    "    print(\"This is at bottom\")\n",
    "    \n",
    "@function1   \n",
    "def function2():\n",
    "    print(\"This is inside function2\")\n",
    "# functionn = function1(function2)\n",
    "function2()"
   ]
  },
  {
   "cell_type": "code",
   "execution_count": null,
   "id": "4b1279c0",
   "metadata": {},
   "outputs": [],
   "source": []
  }
 ],
 "metadata": {
  "kernelspec": {
   "display_name": "Python 3 (ipykernel)",
   "language": "python",
   "name": "python3"
  },
  "language_info": {
   "codemirror_mode": {
    "name": "ipython",
    "version": 3
   },
   "file_extension": ".py",
   "mimetype": "text/x-python",
   "name": "python",
   "nbconvert_exporter": "python",
   "pygments_lexer": "ipython3",
   "version": "3.11.4"
  }
 },
 "nbformat": 4,
 "nbformat_minor": 5
}
