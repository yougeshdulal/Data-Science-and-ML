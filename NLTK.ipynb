{
 "cells": [
  {
   "cell_type": "code",
   "execution_count": 1,
   "id": "6db32039",
   "metadata": {},
   "outputs": [],
   "source": [
    "# Import the necessary libraries\n",
    "import nltk\n",
    "from nltk.sentiment.vader import SentimentIntensityAnalyzer"
   ]
  },
  {
   "cell_type": "code",
   "execution_count": 3,
   "id": "c15860e0",
   "metadata": {},
   "outputs": [
    {
     "name": "stderr",
     "output_type": "stream",
     "text": [
      "[nltk_data] Downloading package vader_lexicon to\n",
      "[nltk_data]     C:\\Users\\Admin\\AppData\\Roaming\\nltk_data...\n",
      "[nltk_data]   Package vader_lexicon is already up-to-date!\n"
     ]
    },
    {
     "data": {
      "text/plain": [
       "True"
      ]
     },
     "execution_count": 3,
     "metadata": {},
     "output_type": "execute_result"
    }
   ],
   "source": [
    "nltk.download('vader_lexicon')"
   ]
  },
  {
   "cell_type": "code",
   "execution_count": 19,
   "id": "81908fad",
   "metadata": {},
   "outputs": [
    {
     "name": "stdout",
     "output_type": "stream",
     "text": [
      "Text: I love this product! It's amazing. It's the best one\n",
      "Sentiment: Positive\n",
      "Positive Score: 0.68\n",
      "Negative Score: 0.00\n",
      "Neutral Score: 0.32\n",
      "Compound Score: 0.93\n"
     ]
    }
   ],
   "source": [
    "# Download VADER lexicon \n",
    "# nltk.download('vader_lexicon')\n",
    "\n",
    "# Initialize the VADER sentiment analyzer\n",
    "sia = SentimentIntensityAnalyzer()\n",
    "\n",
    "# Sample text \n",
    "text = \"I love this product! It's amazing. It's the best one\"\n",
    "# text = \"I don't love this product! It's pathetic\"\n",
    "# text = \"I don't love this product! It's somehow tolerable\"\n",
    "\n",
    "\n",
    "# sentiment scores\n",
    "sentiment_scores = sia.polarity_scores(text)\n",
    "\n",
    "# Interpret the sentiment scores\n",
    "if sentiment_scores['compound'] >= 0.05:\n",
    "    sentiment = 'Positive'\n",
    "elif sentiment_scores['compound'] <= -0.05:\n",
    "    sentiment = 'Negative'\n",
    "else:\n",
    "    sentiment = 'Neutral'\n",
    "\n",
    "# Print the sentiment and scores\n",
    "print(f\"Text: {text}\")\n",
    "print(f\"Sentiment: {sentiment}\")\n",
    "print(f\"Positive Score: {sentiment_scores['pos']:.2f}\")\n",
    "print(f\"Negative Score: {sentiment_scores['neg']:.2f}\")\n",
    "print(f\"Neutral Score: {sentiment_scores['neu']:.2f}\")\n",
    "print(f\"Compound Score: {sentiment_scores['compound']:.2f}\")\n"
   ]
  },
  {
   "cell_type": "code",
   "execution_count": 17,
   "id": "ac4ef347",
   "metadata": {},
   "outputs": [
    {
     "data": {
      "text/plain": [
       "{'neg': 0.582, 'neu': 0.418, 'pos': 0.0, 'compound': -0.7878}"
      ]
     },
     "execution_count": 17,
     "metadata": {},
     "output_type": "execute_result"
    }
   ],
   "source": [
    "sentiment_scores"
   ]
  },
  {
   "cell_type": "code",
   "execution_count": 9,
   "id": "a249d822",
   "metadata": {},
   "outputs": [
    {
     "name": "stdout",
     "output_type": "stream",
     "text": [
      "Collecting textblob\n",
      "  Downloading textblob-0.17.1-py2.py3-none-any.whl (636 kB)\n",
      "     ---------------------------------------- 0.0/636.8 kB ? eta -:--:--\n",
      "      --------------------------------------- 10.2/636.8 kB ? eta -:--:--\n",
      "     -- ---------------------------------- 41.0/636.8 kB 326.8 kB/s eta 0:00:02\n",
      "     ---- -------------------------------- 71.7/636.8 kB 391.3 kB/s eta 0:00:02\n",
      "     ----- ------------------------------- 92.2/636.8 kB 403.5 kB/s eta 0:00:02\n",
      "     -------- --------------------------- 143.4/636.8 kB 607.9 kB/s eta 0:00:01\n",
      "     ----------- ------------------------ 204.8/636.8 kB 655.1 kB/s eta 0:00:01\n",
      "     ----------- ------------------------ 204.8/636.8 kB 655.1 kB/s eta 0:00:01\n",
      "     -------------- --------------------- 256.0/636.8 kB 655.4 kB/s eta 0:00:01\n",
      "     -------------- --------------------- 256.0/636.8 kB 655.4 kB/s eta 0:00:01\n",
      "     -------------- --------------------- 256.0/636.8 kB 655.4 kB/s eta 0:00:01\n",
      "     ---------------- ------------------- 286.7/636.8 kB 519.7 kB/s eta 0:00:01\n",
      "     ------------------ ----------------- 327.7/636.8 kB 534.4 kB/s eta 0:00:01\n",
      "     ---------------------- ------------- 399.4/636.8 kB 637.9 kB/s eta 0:00:01\n",
      "     ---------------------- ------------- 399.4/636.8 kB 637.9 kB/s eta 0:00:01\n",
      "     --------------------------- -------- 481.3/636.8 kB 655.1 kB/s eta 0:00:01\n",
      "     --------------------------------- -- 593.9/636.8 kB 732.3 kB/s eta 0:00:01\n",
      "     -----------------------------------  634.9/636.8 kB 754.4 kB/s eta 0:00:01\n",
      "     ------------------------------------ 636.8/636.8 kB 728.5 kB/s eta 0:00:00\n",
      "Requirement already satisfied: nltk>=3.1 in c:\\users\\admin\\anaconda3\\lib\\site-packages (from textblob) (3.8.1)\n",
      "Requirement already satisfied: click in c:\\users\\admin\\anaconda3\\lib\\site-packages (from nltk>=3.1->textblob) (8.0.4)\n",
      "Requirement already satisfied: joblib in c:\\users\\admin\\anaconda3\\lib\\site-packages (from nltk>=3.1->textblob) (1.2.0)\n",
      "Requirement already satisfied: regex>=2021.8.3 in c:\\users\\admin\\anaconda3\\lib\\site-packages (from nltk>=3.1->textblob) (2023.10.3)\n",
      "Requirement already satisfied: tqdm in c:\\users\\admin\\anaconda3\\lib\\site-packages (from nltk>=3.1->textblob) (4.65.0)\n",
      "Requirement already satisfied: colorama in c:\\users\\admin\\anaconda3\\lib\\site-packages (from click->nltk>=3.1->textblob) (0.4.6)\n",
      "Installing collected packages: textblob\n",
      "Successfully installed textblob-0.17.1\n",
      "Note: you may need to restart the kernel to use updated packages.\n"
     ]
    }
   ],
   "source": [
    "pip install textblob"
   ]
  },
  {
   "cell_type": "code",
   "execution_count": 35,
   "id": "653a2af2",
   "metadata": {},
   "outputs": [
    {
     "name": "stdout",
     "output_type": "stream",
     "text": [
      "0.5\n",
      "Text: I love you\n",
      "Sentiment: Positive\n",
      "Polarity: 0.50\n"
     ]
    }
   ],
   "source": [
    "# Import the necessary library\n",
    "from textblob import TextBlob\n",
    "\n",
    "# Sample text for sentiment analysis\n",
    "text = \"I love you\"\n",
    "# Create a TextBlob object\n",
    "blob = TextBlob(text)\n",
    "\n",
    "# Get the sentiment polarity\n",
    "sentiment_polarity = blob.sentiment.polarity\n",
    "print(sentiment_polarity)\n",
    "# Interpret the sentiment polarity\n",
    "if sentiment_polarity > 0:\n",
    "    sentiment = 'Positive'\n",
    "elif sentiment_polarity < 0:\n",
    "    sentiment = 'Negative'\n",
    "else:\n",
    "    sentiment = 'Neutral'\n",
    "\n",
    "# Print the sentiment and polarity\n",
    "print(f\"Text: {text}\")\n",
    "print(f\"Sentiment: {sentiment}\")\n",
    "print(f\"Polarity: {sentiment_polarity:.2f}\")\n"
   ]
  },
  {
   "cell_type": "code",
   "execution_count": 36,
   "id": "0c17c95c",
   "metadata": {},
   "outputs": [
    {
     "data": {
      "text/plain": [
       "'C:\\\\Users\\\\Admin\\\\dsncs1'"
      ]
     },
     "execution_count": 36,
     "metadata": {},
     "output_type": "execute_result"
    }
   ],
   "source": [
    "pwd"
   ]
  },
  {
   "cell_type": "code",
   "execution_count": null,
   "id": "4eb160ed",
   "metadata": {},
   "outputs": [],
   "source": []
  }
 ],
 "metadata": {
  "kernelspec": {
   "display_name": "Python 3 (ipykernel)",
   "language": "python",
   "name": "python3"
  },
  "language_info": {
   "codemirror_mode": {
    "name": "ipython",
    "version": 3
   },
   "file_extension": ".py",
   "mimetype": "text/x-python",
   "name": "python",
   "nbconvert_exporter": "python",
   "pygments_lexer": "ipython3",
   "version": "3.11.5"
  }
 },
 "nbformat": 4,
 "nbformat_minor": 5
}
