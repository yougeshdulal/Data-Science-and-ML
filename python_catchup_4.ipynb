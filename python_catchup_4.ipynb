{
 "cells": [
  {
   "cell_type": "code",
   "execution_count": 1,
   "id": "6b615bc8",
   "metadata": {},
   "outputs": [
    {
     "name": "stdout",
     "output_type": "stream",
     "text": [
      "['ram', 22, 77, ['ktm', 'brt', 'pkr']]\n"
     ]
    }
   ],
   "source": [
    "my_list = ['ram',22,77,['ktm','brt','pkr']]\n",
    "print(my_list)"
   ]
  },
  {
   "cell_type": "code",
   "execution_count": 2,
   "id": "60052c89",
   "metadata": {},
   "outputs": [
    {
     "data": {
      "text/plain": [
       "['ktm', 'brt', 'pkr']"
      ]
     },
     "execution_count": 2,
     "metadata": {},
     "output_type": "execute_result"
    }
   ],
   "source": [
    "my_list[3]"
   ]
  },
  {
   "cell_type": "code",
   "execution_count": 3,
   "id": "ed008f7d",
   "metadata": {},
   "outputs": [
    {
     "data": {
      "text/plain": [
       "'ktm'"
      ]
     },
     "execution_count": 3,
     "metadata": {},
     "output_type": "execute_result"
    }
   ],
   "source": [
    "my_list[3][0]"
   ]
  },
  {
   "cell_type": "code",
   "execution_count": 4,
   "id": "3befa49e",
   "metadata": {},
   "outputs": [],
   "source": [
    "student = {\n",
    "    'name':'roshan',\n",
    "    'age':33,\n",
    "    'mark':77,\n",
    "    'address':'kathmandu'\n",
    "}"
   ]
  },
  {
   "cell_type": "code",
   "execution_count": 5,
   "id": "1f4fcb38",
   "metadata": {},
   "outputs": [
    {
     "name": "stdout",
     "output_type": "stream",
     "text": [
      "{'name': 'roshan', 'age': 33, 'mark': 77, 'address': 'kathmandu'}\n"
     ]
    }
   ],
   "source": [
    "print(student)"
   ]
  },
  {
   "cell_type": "code",
   "execution_count": 6,
   "id": "08279744",
   "metadata": {},
   "outputs": [
    {
     "name": "stdout",
     "output_type": "stream",
     "text": [
      "roshan\n"
     ]
    }
   ],
   "source": [
    "print(student['name'])"
   ]
  },
  {
   "cell_type": "code",
   "execution_count": 7,
   "id": "d8b5b73b",
   "metadata": {},
   "outputs": [
    {
     "name": "stdout",
     "output_type": "stream",
     "text": [
      "33\n"
     ]
    }
   ],
   "source": [
    "print(student['age'])"
   ]
  },
  {
   "cell_type": "code",
   "execution_count": 8,
   "id": "e728f4fe",
   "metadata": {},
   "outputs": [
    {
     "name": "stdout",
     "output_type": "stream",
     "text": [
      "dict_keys(['name', 'age', 'mark', 'address'])\n"
     ]
    }
   ],
   "source": [
    "print(student.keys())"
   ]
  },
  {
   "cell_type": "code",
   "execution_count": 11,
   "id": "01cdd992",
   "metadata": {},
   "outputs": [
    {
     "name": "stdout",
     "output_type": "stream",
     "text": [
      "dict_values(['roshan', 33, 77, 'kathmandu'])\n"
     ]
    }
   ],
   "source": [
    "print(student.values())"
   ]
  },
  {
   "cell_type": "code",
   "execution_count": 12,
   "id": "ab01a30e",
   "metadata": {},
   "outputs": [
    {
     "name": "stdout",
     "output_type": "stream",
     "text": [
      "dict_items([('name', 'roshan'), ('age', 33), ('mark', 77), ('address', 'kathmandu')])\n"
     ]
    }
   ],
   "source": [
    "print(student.items())"
   ]
  },
  {
   "cell_type": "code",
   "execution_count": 13,
   "id": "b131d61b",
   "metadata": {},
   "outputs": [
    {
     "name": "stdout",
     "output_type": "stream",
     "text": [
      "roshan\n",
      "33\n",
      "77\n",
      "kathmandu\n"
     ]
    }
   ],
   "source": [
    "for i in student.values():\n",
    "    print(i)"
   ]
  },
  {
   "cell_type": "code",
   "execution_count": 14,
   "id": "a18355e3",
   "metadata": {},
   "outputs": [
    {
     "name": "stdout",
     "output_type": "stream",
     "text": [
      "name\n",
      "age\n",
      "mark\n",
      "address\n"
     ]
    }
   ],
   "source": [
    "for i in student.keys():\n",
    "    print(i)"
   ]
  },
  {
   "cell_type": "code",
   "execution_count": 15,
   "id": "53f032bb",
   "metadata": {},
   "outputs": [
    {
     "name": "stdout",
     "output_type": "stream",
     "text": [
      "name roshan\n",
      "age 33\n",
      "mark 77\n",
      "address kathmandu\n"
     ]
    }
   ],
   "source": [
    "for i,j in student.items():\n",
    "    print(i,j)"
   ]
  },
  {
   "cell_type": "code",
   "execution_count": 16,
   "id": "31ebc38b",
   "metadata": {},
   "outputs": [],
   "source": [
    "import math"
   ]
  },
  {
   "cell_type": "code",
   "execution_count": 17,
   "id": "e4152bb4",
   "metadata": {},
   "outputs": [
    {
     "name": "stdout",
     "output_type": "stream",
     "text": [
      "3.0\n"
     ]
    }
   ],
   "source": [
    "num = 9\n",
    "print(math.sqrt(num))"
   ]
  },
  {
   "cell_type": "code",
   "execution_count": 18,
   "id": "8d4a7882",
   "metadata": {},
   "outputs": [
    {
     "name": "stdout",
     "output_type": "stream",
     "text": [
      "81.0\n",
      "729.0\n"
     ]
    }
   ],
   "source": [
    "print(math.pow(num,2))\n",
    "print(math.pow(num,3))"
   ]
  },
  {
   "cell_type": "code",
   "execution_count": 25,
   "id": "fed66f9a",
   "metadata": {},
   "outputs": [
    {
     "name": "stdout",
     "output_type": "stream",
     "text": [
      "4\n",
      "4\n",
      "3\n"
     ]
    }
   ],
   "source": [
    "print(math.ceil(3.6))\n",
    "print(math.ceil(3.1))\n",
    "print(math.ceil(3.0))"
   ]
  },
  {
   "cell_type": "code",
   "execution_count": 20,
   "id": "040a2e57",
   "metadata": {},
   "outputs": [
    {
     "name": "stdout",
     "output_type": "stream",
     "text": [
      "-3\n"
     ]
    }
   ],
   "source": [
    "print(math.ceil(-3.6))"
   ]
  },
  {
   "cell_type": "code",
   "execution_count": 21,
   "id": "f6db050b",
   "metadata": {},
   "outputs": [
    {
     "name": "stdout",
     "output_type": "stream",
     "text": [
      "3\n",
      "3\n"
     ]
    }
   ],
   "source": [
    "print(math.floor(3.7))\n",
    "print(math.floor(3.1))"
   ]
  },
  {
   "cell_type": "code",
   "execution_count": 22,
   "id": "0129be16",
   "metadata": {},
   "outputs": [
    {
     "name": "stdout",
     "output_type": "stream",
     "text": [
      "-4\n"
     ]
    }
   ],
   "source": [
    "print(math.floor(-3.5))"
   ]
  },
  {
   "cell_type": "code",
   "execution_count": 24,
   "id": "b77a7711",
   "metadata": {},
   "outputs": [
    {
     "name": "stdout",
     "output_type": "stream",
     "text": [
      "3\n",
      "3\n",
      "-3\n"
     ]
    }
   ],
   "source": [
    "print(math.trunc(3.8))\n",
    "print(math.trunc(3.1))\n",
    "print(math.trunc(-3.5))"
   ]
  },
  {
   "cell_type": "code",
   "execution_count": 28,
   "id": "69353710",
   "metadata": {},
   "outputs": [
    {
     "name": "stdout",
     "output_type": "stream",
     "text": [
      "4\n",
      "4\n",
      "3\n",
      "4\n"
     ]
    }
   ],
   "source": [
    "print(round(3.6))\n",
    "print(round(3.5))\n",
    "print(round(3.1))\n",
    "print(round(3.9))"
   ]
  },
  {
   "cell_type": "code",
   "execution_count": 29,
   "id": "fc9f37d9",
   "metadata": {},
   "outputs": [
    {
     "name": "stdout",
     "output_type": "stream",
     "text": [
      "3.141592653589793\n"
     ]
    }
   ],
   "source": [
    "print(math.pi)"
   ]
  },
  {
   "cell_type": "code",
   "execution_count": 30,
   "id": "e154fdb4",
   "metadata": {},
   "outputs": [
    {
     "name": "stdout",
     "output_type": "stream",
     "text": [
      "2.718281828459045\n"
     ]
    }
   ],
   "source": [
    "print(math.e)"
   ]
  },
  {
   "cell_type": "code",
   "execution_count": 34,
   "id": "6c4d6c3b",
   "metadata": {},
   "outputs": [
    {
     "name": "stdout",
     "output_type": "stream",
     "text": [
      "4\n",
      "3\n",
      "3.142\n",
      "3.1416\n"
     ]
    }
   ],
   "source": [
    "print(round(3.6))\n",
    "print(round(math.pi))\n",
    "print(round(math.pi,3))\n",
    "print(round(math.pi,4))"
   ]
  },
  {
   "cell_type": "code",
   "execution_count": 35,
   "id": "fcf6a1ea",
   "metadata": {},
   "outputs": [],
   "source": [
    "import os"
   ]
  },
  {
   "cell_type": "code",
   "execution_count": 39,
   "id": "ad24d873",
   "metadata": {},
   "outputs": [
    {
     "name": "stdout",
     "output_type": "stream",
     "text": [
      "C:\\Users\\Admin\\Data Science 1PM\n",
      "['.ipynb_checkpoints', 'python_catchup_1.ipynb', 'python_catchup_2.ipynb', 'python_catchup_3.ipynb', 'Untitled.ipynb']\n",
      "..\n"
     ]
    }
   ],
   "source": [
    "print(os.getcwd())\n",
    "print(os.listdir())\n",
    "print(os.pardir)"
   ]
  },
  {
   "cell_type": "code",
   "execution_count": 40,
   "id": "acf76528",
   "metadata": {},
   "outputs": [],
   "source": [
    "import random"
   ]
  },
  {
   "cell_type": "code",
   "execution_count": 41,
   "id": "4e4f2d30",
   "metadata": {},
   "outputs": [
    {
     "name": "stdout",
     "output_type": "stream",
     "text": [
      "0.9602371472742374\n"
     ]
    }
   ],
   "source": [
    "print(random.random())"
   ]
  },
  {
   "cell_type": "code",
   "execution_count": 46,
   "id": "65b68871",
   "metadata": {},
   "outputs": [
    {
     "name": "stdout",
     "output_type": "stream",
     "text": [
      "4\n"
     ]
    }
   ],
   "source": [
    "print(random.randint(1,5))"
   ]
  },
  {
   "cell_type": "code",
   "execution_count": 47,
   "id": "b44ce76d",
   "metadata": {},
   "outputs": [
    {
     "name": "stdout",
     "output_type": "stream",
     "text": [
      "0 1 2 3 4 "
     ]
    }
   ],
   "source": [
    "for i in range(5):\n",
    "    print(i,end=' ')"
   ]
  },
  {
   "cell_type": "code",
   "execution_count": 48,
   "id": "3e10923c",
   "metadata": {},
   "outputs": [],
   "source": [
    "import csv"
   ]
  },
  {
   "cell_type": "code",
   "execution_count": 50,
   "id": "b5fc3ef4",
   "metadata": {},
   "outputs": [
    {
     "name": "stdout",
     "output_type": "stream",
     "text": [
      "['country', 'capital', 'gdp', 'education']\n",
      "['Nepal', 'kathmandu', '12', '55']\n",
      "['India', 'Delhi', '12', '59']\n",
      "['Pakistan', 'Islamabad', '17', '81']\n",
      "['Maldives', 'Male', '11', '41']\n",
      "['China', 'Beijing', '12', '91']\n"
     ]
    }
   ],
   "source": [
    "with open(\"country.csv\") as f:\n",
    "    data_read = csv.reader(f)\n",
    "    for i in data_read:\n",
    "        print(i)"
   ]
  },
  {
   "cell_type": "code",
   "execution_count": 52,
   "id": "1bf272e7",
   "metadata": {},
   "outputs": [
    {
     "name": "stdout",
     "output_type": "stream",
     "text": [
      "No such data found\n",
      "['Nepal', 'kathmandu', '12', '55']\n",
      "No such data found\n",
      "No such data found\n",
      "No such data found\n",
      "No such data found\n"
     ]
    }
   ],
   "source": [
    "with open(\"country.csv\") as f:\n",
    "    data_read = csv.reader(f)\n",
    "    for i in data_read:\n",
    "        if 'Nepal' in i:\n",
    "            print(i)\n",
    "        else:\n",
    "            print(\"No such data found\")"
   ]
  },
  {
   "cell_type": "code",
   "execution_count": 66,
   "id": "9201def0",
   "metadata": {},
   "outputs": [
    {
     "name": "stdout",
     "output_type": "stream",
     "text": [
      "['Nepal', 'kathmandu', '12', '55']\n"
     ]
    }
   ],
   "source": [
    "with open(\"country.csv\") as f:\n",
    "    data_read = csv.reader(f)\n",
    "    for i in data_read:\n",
    "        if 'Nepal' in i:\n",
    "            print(i)\n",
    "            break\n",
    "        else:\n",
    "#             print(\"No such data found\")\n",
    "            pass"
   ]
  },
  {
   "cell_type": "code",
   "execution_count": 56,
   "id": "56533245",
   "metadata": {},
   "outputs": [
    {
     "name": "stdout",
     "output_type": "stream",
     "text": [
      "No such data found\n"
     ]
    }
   ],
   "source": [
    "with open(\"country.csv\") as f:\n",
    "    counter = 0\n",
    "    data_read = csv.reader(f)\n",
    "    for i in data_read:\n",
    "        if 'Nepals' in i:\n",
    "            print(i)\n",
    "            counter += 1\n",
    "            break\n",
    "    if counter == 0:\n",
    "        print(\"No such data found\")"
   ]
  },
  {
   "cell_type": "code",
   "execution_count": 64,
   "id": "90442e9e",
   "metadata": {},
   "outputs": [
    {
     "name": "stdout",
     "output_type": "stream",
     "text": [
      "Enter the name of country to check: India\n",
      "['India', 'Delhi', '12', '59']\n"
     ]
    }
   ],
   "source": [
    "with open(\"country.csv\") as f:\n",
    "    counter = 0\n",
    "    data_read = csv.reader(f)\n",
    "    country_name = input(\"Enter the name of country to check: \")\n",
    "    country_name=country_name.title()\n",
    "    for i in data_read:\n",
    "        if country_name in i:\n",
    "            print(i)\n",
    "            counter += 1\n",
    "            break\n",
    "    if counter == 0:\n",
    "        print(\"No such data found\")"
   ]
  },
  {
   "cell_type": "code",
   "execution_count": null,
   "id": "bb9e2c30",
   "metadata": {},
   "outputs": [],
   "source": []
  }
 ],
 "metadata": {
  "kernelspec": {
   "display_name": "Python 3 (ipykernel)",
   "language": "python",
   "name": "python3"
  },
  "language_info": {
   "codemirror_mode": {
    "name": "ipython",
    "version": 3
   },
   "file_extension": ".py",
   "mimetype": "text/x-python",
   "name": "python",
   "nbconvert_exporter": "python",
   "pygments_lexer": "ipython3",
   "version": "3.9.12"
  }
 },
 "nbformat": 4,
 "nbformat_minor": 5
}
