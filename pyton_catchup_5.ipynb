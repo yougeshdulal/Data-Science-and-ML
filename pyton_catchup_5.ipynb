{
 "cells": [
  {
   "cell_type": "code",
   "execution_count": 1,
   "id": "bb2e6b6b",
   "metadata": {},
   "outputs": [],
   "source": [
    "import csv"
   ]
  },
  {
   "cell_type": "code",
   "execution_count": 2,
   "id": "f9a53de9",
   "metadata": {},
   "outputs": [
    {
     "name": "stdout",
     "output_type": "stream",
     "text": [
      "<_csv.reader object at 0x000001C4845F8EE0>\n"
     ]
    }
   ],
   "source": [
    "with open('country.csv') as f:\n",
    "    data_read = csv.reader(f)\n",
    "    print(data_read)"
   ]
  },
  {
   "cell_type": "code",
   "execution_count": 3,
   "id": "6e0d8981",
   "metadata": {},
   "outputs": [
    {
     "name": "stdout",
     "output_type": "stream",
     "text": [
      "['country', 'capital', 'gdp', 'education']\n",
      "['Nepal', 'kathmandu', '12', '55']\n",
      "['India', 'Delhi', '12', '59']\n",
      "['Pakistan', 'Islamabad', '17', '81']\n",
      "['Maldives', 'Male', '11', '41']\n",
      "['China', 'Beijing', '12', '91']\n"
     ]
    }
   ],
   "source": [
    "with open('country.csv') as f:\n",
    "    data_read = csv.reader(f)\n",
    "    for i in data_read:\n",
    "        print(i)"
   ]
  },
  {
   "cell_type": "code",
   "execution_count": 5,
   "id": "6b2d3d37",
   "metadata": {},
   "outputs": [
    {
     "name": "stdout",
     "output_type": "stream",
     "text": [
      "{'country': 'Nepal', 'capital': 'kathmandu', 'gdp': '12', 'education': '55'}\n",
      "{'country': 'India', 'capital': 'Delhi', 'gdp': '12', 'education': '59'}\n",
      "{'country': 'Pakistan', 'capital': 'Islamabad', 'gdp': '17', 'education': '81'}\n",
      "{'country': 'Maldives', 'capital': 'Male', 'gdp': '11', 'education': '41'}\n",
      "{'country': 'China', 'capital': 'Beijing', 'gdp': '12', 'education': '91'}\n"
     ]
    }
   ],
   "source": [
    "with open('country.csv') as f:\n",
    "    data_read = csv.DictReader(f)\n",
    "    for i in data_read:\n",
    "        print(i)"
   ]
  },
  {
   "cell_type": "code",
   "execution_count": 8,
   "id": "e021fff1",
   "metadata": {},
   "outputs": [
    {
     "name": "stdout",
     "output_type": "stream",
     "text": [
      "dict_keys(['country', 'capital', 'gdp', 'education'])\n",
      "dict_values(['Nepal', 'kathmandu', '12', '55'])\n",
      "dict_keys(['country', 'capital', 'gdp', 'education'])\n",
      "dict_values(['India', 'Delhi', '12', '59'])\n",
      "dict_keys(['country', 'capital', 'gdp', 'education'])\n",
      "dict_values(['Pakistan', 'Islamabad', '17', '81'])\n",
      "dict_keys(['country', 'capital', 'gdp', 'education'])\n",
      "dict_values(['Maldives', 'Male', '11', '41'])\n",
      "dict_keys(['country', 'capital', 'gdp', 'education'])\n",
      "dict_values(['China', 'Beijing', '12', '91'])\n"
     ]
    }
   ],
   "source": [
    "with open('country.csv') as f:\n",
    "    data_read = csv.DictReader(f)\n",
    "    for i in data_read:\n",
    "        print(i.keys())\n",
    "        print(i.values())"
   ]
  },
  {
   "cell_type": "code",
   "execution_count": 20,
   "id": "b07f3dc8",
   "metadata": {},
   "outputs": [],
   "source": [
    "with open('country.csv','a',newline='\\n') as f:\n",
    "    data_write = csv.writer(f)\n",
    "    data_write.writerow(['Bhutan', 'Thimpu', '11', '65'])"
   ]
  },
  {
   "cell_type": "code",
   "execution_count": 21,
   "id": "2b93b26b",
   "metadata": {},
   "outputs": [],
   "source": [
    "with open('country.csv','a',newline='\\n') as f:\n",
    "    data_write = csv.writer(f)\n",
    "    data_write.writerow(['Bhutan', 'Thimpu', '11', '65'])\n",
    "    data_write.writerow(['Bhutan1', 'Thimpu1', '12', '66'])    \n",
    "    data_write.writerow(['Bhutan2', 'Thimpu2', '13', '67'])    "
   ]
  },
  {
   "cell_type": "code",
   "execution_count": 24,
   "id": "069c6ab0",
   "metadata": {},
   "outputs": [],
   "source": [
    "with open('country.csv','a',newline='\\n') as f:\n",
    "    data_write = csv.writer(f)\n",
    "    data_write.writerows([['Bhutan', 'Thimpu', '11', '65'],['Bhutan1', 'Thimpu1', '12', '66']]) "
   ]
  },
  {
   "cell_type": "code",
   "execution_count": 31,
   "id": "bcbedf62",
   "metadata": {},
   "outputs": [],
   "source": [
    "with open('test.csv','a',newline='\\n') as f:\n",
    "    fields = ['countryname','Capital_city','gdp','literacy']\n",
    "    data_write = csv.DictWriter(f, fieldnames=fields)\n",
    "    data_write.writerow({'countryname':'Bhutan', 'Capital_city':'Thimpu','gdp': '11', 'literacy':'65'}) "
   ]
  },
  {
   "cell_type": "code",
   "execution_count": 42,
   "id": "2ab0c215",
   "metadata": {
    "scrolled": false
   },
   "outputs": [],
   "source": [
    "with open('test.csv','a',newline='\\n') as f:\n",
    "    data_write = csv.DictWriter(f, fieldnames=['countryname','Capital_city','gdp','literacy'])\n",
    "    data_write.writeheader()\n",
    "    data_write.writerow({'countryname':'Bhutan', 'Capital_city':'Thimpu_1','gdp': '11', 'literacy':'65'}) "
   ]
  },
  {
   "cell_type": "markdown",
   "id": "b2e78dd4",
   "metadata": {},
   "source": [
    "# Higher order functions"
   ]
  },
  {
   "cell_type": "code",
   "execution_count": 43,
   "id": "e8e12da6",
   "metadata": {},
   "outputs": [
    {
     "name": "stdout",
     "output_type": "stream",
     "text": [
      "THIS IS TEST CONTENT\n"
     ]
    }
   ],
   "source": [
    "def func1(text):\n",
    "    return text.upper()\n",
    "\n",
    "print(func1(\"This is test content\"))"
   ]
  },
  {
   "cell_type": "code",
   "execution_count": 45,
   "id": "e240e9fa",
   "metadata": {},
   "outputs": [
    {
     "name": "stdout",
     "output_type": "stream",
     "text": [
      "THIS IS TEST CONTENT\n"
     ]
    }
   ],
   "source": [
    "some_demo = func1\n",
    "print(some_demo(\"This is test content\"))"
   ]
  },
  {
   "cell_type": "code",
   "execution_count": 46,
   "id": "7c556cf7",
   "metadata": {},
   "outputs": [
    {
     "name": "stdout",
     "output_type": "stream",
     "text": [
      "<class 'function'>\n"
     ]
    }
   ],
   "source": [
    "print(type(some_demo))"
   ]
  },
  {
   "cell_type": "code",
   "execution_count": 47,
   "id": "34a06baa",
   "metadata": {},
   "outputs": [
    {
     "name": "stdout",
     "output_type": "stream",
     "text": [
      "THIS IS HIGHER ORDER FUNCTION\n",
      "this is higher order function\n"
     ]
    }
   ],
   "source": [
    "def func1(text):\n",
    "    return text.upper()\n",
    "\n",
    "def func2(text):\n",
    "    return text.lower()\n",
    "\n",
    "def func3(fun):\n",
    "    print(fun(\"This IS higher order function\"))\n",
    "    \n",
    "\n",
    "func3(func1)\n",
    "func3(func2)"
   ]
  },
  {
   "cell_type": "code",
   "execution_count": null,
   "id": "c809bf7a",
   "metadata": {},
   "outputs": [],
   "source": []
  }
 ],
 "metadata": {
  "kernelspec": {
   "display_name": "Python 3 (ipykernel)",
   "language": "python",
   "name": "python3"
  },
  "language_info": {
   "codemirror_mode": {
    "name": "ipython",
    "version": 3
   },
   "file_extension": ".py",
   "mimetype": "text/x-python",
   "name": "python",
   "nbconvert_exporter": "python",
   "pygments_lexer": "ipython3",
   "version": "3.9.12"
  }
 },
 "nbformat": 4,
 "nbformat_minor": 5
}
