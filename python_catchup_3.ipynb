{
 "cells": [
  {
   "cell_type": "code",
   "execution_count": 4,
   "id": "1e7170c5",
   "metadata": {},
   "outputs": [
    {
     "name": "stdout",
     "output_type": "stream",
     "text": [
      "This is inside func1\n",
      "This is inside func1\n",
      "This is inside func1\n"
     ]
    }
   ],
   "source": [
    "def func1():\n",
    "    print(\"This is inside func1\")\n",
    "    \n",
    "func1()\n",
    "func1()\n",
    "func1()"
   ]
  },
  {
   "cell_type": "code",
   "execution_count": 8,
   "id": "6bd077dc",
   "metadata": {},
   "outputs": [
    {
     "name": "stdout",
     "output_type": "stream",
     "text": [
      "a is 22 and b is 33\n"
     ]
    }
   ],
   "source": [
    "def func2(a,b) -> None:\n",
    "    print(f\"a is {a} and b is {b}\")\n",
    "    \n",
    "func2(22,33)"
   ]
  },
  {
   "cell_type": "code",
   "execution_count": 10,
   "id": "5836ef99",
   "metadata": {},
   "outputs": [
    {
     "name": "stdout",
     "output_type": "stream",
     "text": [
      "a is 22 and b is 33\n",
      "Returned sum is 55\n"
     ]
    }
   ],
   "source": [
    "def func2(a,b) -> int:\n",
    "    '''\n",
    "    this is the func2 function that will accept two numbers and return one intger result\n",
    "    '''\n",
    "    print(f\"a is {a} and b is {b}\")\n",
    "    return a+b\n",
    "    \n",
    "res = func2(22,33)\n",
    "print(f\"Returned sum is {res}\")"
   ]
  },
  {
   "cell_type": "code",
   "execution_count": 12,
   "id": "955ef527",
   "metadata": {},
   "outputs": [
    {
     "name": "stdout",
     "output_type": "stream",
     "text": [
      "\n",
      "    this is the func2 function that will accept two numbers and return one intger result\n",
      "    \n"
     ]
    }
   ],
   "source": [
    "print(func2.__doc__)"
   ]
  },
  {
   "cell_type": "code",
   "execution_count": 13,
   "id": "775ad2b0",
   "metadata": {},
   "outputs": [
    {
     "name": "stdout",
     "output_type": "stream",
     "text": [
      "5\n",
      "4\n",
      "3\n",
      "2\n",
      "1\n"
     ]
    }
   ],
   "source": [
    "def func_n(a):\n",
    "    if a>0:\n",
    "        print(a)\n",
    "        func_n(a-1)\n",
    "\n",
    "func_n(5)"
   ]
  },
  {
   "cell_type": "code",
   "execution_count": 14,
   "id": "3ce25cea",
   "metadata": {},
   "outputs": [
    {
     "name": "stdout",
     "output_type": "stream",
     "text": [
      "5\n",
      "4\n",
      "3\n",
      "2\n",
      "1\n"
     ]
    }
   ],
   "source": [
    "def func_n(a):\n",
    "    res = 1\n",
    "    if a > 0:\n",
    "        res = res * a\n",
    "        print(res)\n",
    "        func_n(a-1)\n",
    "#         a*func_n(a-1)\n",
    "\n",
    "func_n(5)"
   ]
  },
  {
   "cell_type": "code",
   "execution_count": 18,
   "id": "81a64c88",
   "metadata": {},
   "outputs": [
    {
     "name": "stdout",
     "output_type": "stream",
     "text": [
      "at this point a is 5 and res is 1\n",
      "5\n",
      "at this point a is 4 and res is 5\n",
      "20\n",
      "at this point a is 3 and res is 20\n",
      "60\n",
      "at this point a is 2 and res is 60\n",
      "120\n",
      "at this point a is 1 and res is 120\n",
      "120\n",
      "at this point a is 0 and res is 120\n"
     ]
    }
   ],
   "source": [
    "def func_n(a,res):\n",
    "    print(f\"at this point a is {a} and res is {res}\")\n",
    "    if a > 0:\n",
    "        res = res * a\n",
    "        print(res)\n",
    "        func_n(a-1,res)\n",
    "#         a*func_n(a-1)\n",
    "\n",
    "func_n(5,1)"
   ]
  },
  {
   "cell_type": "code",
   "execution_count": 20,
   "id": "d01e5b84",
   "metadata": {},
   "outputs": [
    {
     "name": "stdout",
     "output_type": "stream",
     "text": [
      "120\n"
     ]
    }
   ],
   "source": [
    "def func_n(a):\n",
    "#     res = 1\n",
    "    if a == 1:\n",
    "        return 1\n",
    "    else:\n",
    "#         res = res * a\n",
    "#         print(res)\n",
    "#         func_n(a-1,res)\n",
    "        return (a*func_n(a-1))\n",
    "\n",
    "print(func_n(5))"
   ]
  },
  {
   "cell_type": "markdown",
   "id": "91bdf2fc",
   "metadata": {},
   "source": [
    "# string"
   ]
  },
  {
   "cell_type": "code",
   "execution_count": 21,
   "id": "0979207c",
   "metadata": {},
   "outputs": [
    {
     "name": "stdout",
     "output_type": "stream",
     "text": [
      "kathmandu is capital of Nepal\n"
     ]
    }
   ],
   "source": [
    "capital_desc = 'kathmandu is capital of Nepal'\n",
    "print(capital_desc)"
   ]
  },
  {
   "cell_type": "code",
   "execution_count": 22,
   "id": "0a6631e1",
   "metadata": {},
   "outputs": [
    {
     "name": "stdout",
     "output_type": "stream",
     "text": [
      "<class 'str'>\n"
     ]
    }
   ],
   "source": [
    "print(type(capital_desc))"
   ]
  },
  {
   "cell_type": "code",
   "execution_count": 23,
   "id": "27b40a0f",
   "metadata": {},
   "outputs": [
    {
     "name": "stdout",
     "output_type": "stream",
     "text": [
      "29\n"
     ]
    }
   ],
   "source": [
    "print(len(capital_desc))"
   ]
  },
  {
   "cell_type": "code",
   "execution_count": 24,
   "id": "d0dd7f72",
   "metadata": {},
   "outputs": [
    {
     "name": "stdout",
     "output_type": "stream",
     "text": [
      "k\n"
     ]
    }
   ],
   "source": [
    "print(capital_desc[0])"
   ]
  },
  {
   "cell_type": "code",
   "execution_count": 25,
   "id": "c2693667",
   "metadata": {},
   "outputs": [
    {
     "name": "stdout",
     "output_type": "stream",
     "text": [
      "kathmandu \n"
     ]
    }
   ],
   "source": [
    "print(capital_desc[0:10])"
   ]
  },
  {
   "cell_type": "code",
   "execution_count": 26,
   "id": "56eed50f",
   "metadata": {},
   "outputs": [
    {
     "name": "stdout",
     "output_type": "stream",
     "text": [
      "kat\n"
     ]
    }
   ],
   "source": [
    "print(capital_desc[0:3])"
   ]
  },
  {
   "cell_type": "code",
   "execution_count": 27,
   "id": "7a3f3532",
   "metadata": {},
   "outputs": [
    {
     "name": "stdout",
     "output_type": "stream",
     "text": [
      "l\n"
     ]
    }
   ],
   "source": [
    "print(capital_desc[-1])"
   ]
  },
  {
   "cell_type": "code",
   "execution_count": 28,
   "id": "9ebb0992",
   "metadata": {},
   "outputs": [
    {
     "name": "stdout",
     "output_type": "stream",
     "text": [
      "ktmnui aia fNpl\n"
     ]
    }
   ],
   "source": [
    "print(capital_desc[::2])"
   ]
  },
  {
   "cell_type": "markdown",
   "id": "f199e124",
   "metadata": {},
   "source": [
    "# list"
   ]
  },
  {
   "cell_type": "code",
   "execution_count": 29,
   "id": "6b8679e0",
   "metadata": {},
   "outputs": [
    {
     "name": "stdout",
     "output_type": "stream",
     "text": [
      "['apple', 'ball', 'cat', 'dog', 'elephant']\n"
     ]
    }
   ],
   "source": [
    "list1 = ['apple','ball','cat','dog','elephant']\n",
    "print(list1)"
   ]
  },
  {
   "cell_type": "code",
   "execution_count": 30,
   "id": "f9fbb52b",
   "metadata": {},
   "outputs": [
    {
     "name": "stdout",
     "output_type": "stream",
     "text": [
      "apple\n"
     ]
    }
   ],
   "source": [
    "print(list1[0])"
   ]
  },
  {
   "cell_type": "code",
   "execution_count": 31,
   "id": "1371a84f",
   "metadata": {},
   "outputs": [
    {
     "name": "stdout",
     "output_type": "stream",
     "text": [
      "5\n"
     ]
    }
   ],
   "source": [
    "print(len(list1))"
   ]
  },
  {
   "cell_type": "code",
   "execution_count": 32,
   "id": "2ff9e6cd",
   "metadata": {},
   "outputs": [
    {
     "name": "stdout",
     "output_type": "stream",
     "text": [
      "['apple', 'ball', 'cat', 'dog']\n"
     ]
    }
   ],
   "source": [
    "print(list1[0:4])"
   ]
  },
  {
   "cell_type": "code",
   "execution_count": 33,
   "id": "571dc44d",
   "metadata": {},
   "outputs": [],
   "source": [
    "list1.append('fish')"
   ]
  },
  {
   "cell_type": "code",
   "execution_count": 34,
   "id": "f5d3f68d",
   "metadata": {},
   "outputs": [
    {
     "data": {
      "text/plain": [
       "['apple', 'ball', 'cat', 'dog', 'elephant', 'fish']"
      ]
     },
     "execution_count": 34,
     "metadata": {},
     "output_type": "execute_result"
    }
   ],
   "source": [
    "list1"
   ]
  },
  {
   "cell_type": "code",
   "execution_count": 38,
   "id": "c256bc55",
   "metadata": {},
   "outputs": [],
   "source": [
    "list1.insert(2,'random')"
   ]
  },
  {
   "cell_type": "code",
   "execution_count": 39,
   "id": "c808ff96",
   "metadata": {},
   "outputs": [
    {
     "data": {
      "text/plain": [
       "['apple', 'ball', 'random', 'cat', 'dog', 'elephant', 'fish']"
      ]
     },
     "execution_count": 39,
     "metadata": {},
     "output_type": "execute_result"
    }
   ],
   "source": [
    "list1"
   ]
  },
  {
   "cell_type": "code",
   "execution_count": 40,
   "id": "5340c51c",
   "metadata": {},
   "outputs": [
    {
     "data": {
      "text/plain": [
       "1"
      ]
     },
     "execution_count": 40,
     "metadata": {},
     "output_type": "execute_result"
    }
   ],
   "source": [
    "list1.index('ball')"
   ]
  },
  {
   "cell_type": "code",
   "execution_count": null,
   "id": "f5c5c7ce",
   "metadata": {},
   "outputs": [],
   "source": [
    "# try finding the max min sum etcetera"
   ]
  },
  {
   "cell_type": "code",
   "execution_count": 41,
   "id": "0e416efa",
   "metadata": {},
   "outputs": [
    {
     "name": "stdout",
     "output_type": "stream",
     "text": [
      "<class 'tuple'>\n"
     ]
    }
   ],
   "source": [
    "# tuple\n",
    "user_tuple = ()\n",
    "print(type(user_tuple))"
   ]
  },
  {
   "cell_type": "code",
   "execution_count": null,
   "id": "14859729",
   "metadata": {},
   "outputs": [],
   "source": []
  }
 ],
 "metadata": {
  "kernelspec": {
   "display_name": "Python 3 (ipykernel)",
   "language": "python",
   "name": "python3"
  },
  "language_info": {
   "codemirror_mode": {
    "name": "ipython",
    "version": 3
   },
   "file_extension": ".py",
   "mimetype": "text/x-python",
   "name": "python",
   "nbconvert_exporter": "python",
   "pygments_lexer": "ipython3",
   "version": "3.9.12"
  }
 },
 "nbformat": 4,
 "nbformat_minor": 5
}
